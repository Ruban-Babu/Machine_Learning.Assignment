{
 "cells": [
  {
   "cell_type": "code",
   "execution_count": 1,
   "id": "ffd4b3c1",
   "metadata": {},
   "outputs": [],
   "source": [
    "import pandas as pd\n",
    "from sklearn.model_selection import train_test_split\n",
    "from sklearn.preprocessing import StandardScaler\n",
    "from sklearn.feature_selection import SelectKBest, f_regression\n",
    "from sklearn.feature_selection import RFE\n",
    "from sklearn.ensemble import RandomForestRegressor\n",
    "from sklearn.metrics import mean_squared_error, r2_score\n",
    "import pickle"
   ]
  },
  {
   "cell_type": "code",
   "execution_count": 2,
   "id": "5427ed5b",
   "metadata": {},
   "outputs": [],
   "source": [
    "# Step 1: Load and preprocess the data\n",
    "data = pd.read_csv('PreProcessed.csv')\n",
    "\n",
    "X = data[['age', 'bmi', 'smoker_yes']]\n",
    "y = data['charges']"
   ]
  },
  {
   "cell_type": "code",
   "execution_count": 6,
   "id": "7389a06f",
   "metadata": {
    "scrolled": true
   },
   "outputs": [],
   "source": [
    "# Step 2: Split the data into training and testing sets\n",
    "X_train, X_test, y_train, y_test = train_test_split(X, y, test_size=0.2, random_state=0)"
   ]
  },
  {
   "cell_type": "code",
   "execution_count": 7,
   "id": "0374fee3",
   "metadata": {},
   "outputs": [],
   "source": [
    "# Step 3: Perform SelectKBest feature selection\n",
    "selector = SelectKBest(f_regression, k=2)  # Select top 2 features based on f_regression score\n",
    "X_train_kbest = selector.fit_transform(X_train, y_train)\n",
    "X_test_kbest = selector.transform(X_test)"
   ]
  },
  {
   "cell_type": "code",
   "execution_count": 8,
   "id": "5f04ccbd",
   "metadata": {},
   "outputs": [],
   "source": [
    "# Step 4: Create a regression model using the selected features from SelectKBest\n",
    "model_kbest = RandomForestRegressor(n_estimators=10, random_state=0)"
   ]
  },
  {
   "cell_type": "code",
   "execution_count": 9,
   "id": "3a0d51fe",
   "metadata": {},
   "outputs": [
    {
     "data": {
      "text/plain": [
       "RandomForestRegressor(n_estimators=10, random_state=0)"
      ]
     },
     "execution_count": 9,
     "metadata": {},
     "output_type": "execute_result"
    }
   ],
   "source": [
    "# Step 5: Train the model on the training data with selected features from SelectKBest\n",
    "model_kbest.fit(X_train_kbest, y_train)"
   ]
  },
  {
   "cell_type": "code",
   "execution_count": 10,
   "id": "0bbd08ea",
   "metadata": {},
   "outputs": [],
   "source": [
    "# Step 6: Evaluate the model on the testing data with selected features from SelectKBest\n",
    "y_pred_kbest = model_kbest.predict(X_test_kbest)\n",
    "mse_kbest = mean_squared_error(y_test, y_pred_kbest)\n",
    "r2_kbest = r2_score(y_test, y_pred_kbest)"
   ]
  },
  {
   "cell_type": "code",
   "execution_count": 11,
   "id": "d15a17bd",
   "metadata": {},
   "outputs": [
    {
     "name": "stdout",
     "output_type": "stream",
     "text": [
      "SelectKBest:\n",
      "Mean Squared Error: 44798665.88170708\n",
      "R-squared: 0.7184774933144176\n"
     ]
    }
   ],
   "source": [
    "# Print model evaluation metrics for SelectKBest\n",
    "print('SelectKBest:')\n",
    "print('Mean Squared Error:', mse_kbest)\n",
    "print('R-squared:', r2_kbest)"
   ]
  },
  {
   "cell_type": "code",
   "execution_count": 12,
   "id": "78d2f285",
   "metadata": {},
   "outputs": [],
   "source": [
    "# Step 7: Save the trained SelectKBest model using pickle\n",
    "with open('insurance_charges_model_kbest.pkl', 'wb') as file:\n",
    "    pickle.dump(model_kbest, file)"
   ]
  },
  {
   "cell_type": "code",
   "execution_count": 13,
   "id": "6629a21c",
   "metadata": {},
   "outputs": [],
   "source": [
    "# Step 8: Perform Recursive Feature Elimination (RFE) feature selection\n",
    "rfe = RFE(RandomForestRegressor(n_estimators=10, random_state=0), n_features_to_select=2)\n",
    "X_train_rfe = rfe.fit_transform(X_train, y_train)\n",
    "X_test_rfe = rfe.transform(X_test)"
   ]
  },
  {
   "cell_type": "code",
   "execution_count": 14,
   "id": "229fbc29",
   "metadata": {},
   "outputs": [],
   "source": [
    "# Step 9: Create a regression model using the selected features from RFE\n",
    "model_rfe = RandomForestRegressor(n_estimators=10, random_state=0)"
   ]
  },
  {
   "cell_type": "code",
   "execution_count": 15,
   "id": "c724aff8",
   "metadata": {},
   "outputs": [
    {
     "data": {
      "text/plain": [
       "RandomForestRegressor(n_estimators=10, random_state=0)"
      ]
     },
     "execution_count": 15,
     "metadata": {},
     "output_type": "execute_result"
    }
   ],
   "source": [
    "# Step 10: Train the model on the training data with selected features from RFE\n",
    "model_rfe.fit(X_train_rfe, y_train)"
   ]
  },
  {
   "cell_type": "code",
   "execution_count": 16,
   "id": "f7ffa732",
   "metadata": {},
   "outputs": [],
   "source": [
    "# Step 11: Evaluate the model on the testing data with selected features from RFE\n",
    "y_pred_rfe = model_rfe.predict(X_test_rfe)\n",
    "mse_rfe = mean_squared_error(y_test, y_pred_rfe)\n",
    "r2_rfe = r2_score(y_test, y_pred_rfe)"
   ]
  },
  {
   "cell_type": "code",
   "execution_count": 17,
   "id": "114403f5",
   "metadata": {},
   "outputs": [
    {
     "name": "stdout",
     "output_type": "stream",
     "text": [
      "Recursive Feature Elimination (RFE):\n",
      "Mean Squared Error: 43002495.791517116\n",
      "R-squared: 0.7297649344975807\n"
     ]
    }
   ],
   "source": [
    "# Print model evaluation metrics for RFE\n",
    "print('Recursive Feature Elimination (RFE):')\n",
    "print('Mean Squared Error:', mse_rfe)\n",
    "print('R-squared:', r2_rfe)"
   ]
  },
  {
   "cell_type": "code",
   "execution_count": 18,
   "id": "b055eeee",
   "metadata": {},
   "outputs": [],
   "source": [
    "# Step 12: Save the trained RFE model using pickle\n",
    "with open('insurance_charges_model_rfe.pkl', 'wb') as file:\n",
    "    pickle.dump(model_rfe, file)"
   ]
  },
  {
   "cell_type": "code",
   "execution_count": 19,
   "id": "e6bff6c0",
   "metadata": {},
   "outputs": [
    {
     "data": {
      "text/plain": [
       "RandomForestRegressor(n_estimators=10, random_state=0)"
      ]
     },
     "execution_count": 19,
     "metadata": {},
     "output_type": "execute_result"
    }
   ],
   "source": [
    "# Step 13: Perform Feature Importance\n",
    "model_importance = RandomForestRegressor(n_estimators=10, random_state=0)\n",
    "model_importance.fit(X_train, y_train)"
   ]
  },
  {
   "cell_type": "code",
   "execution_count": 20,
   "id": "363f0d4b",
   "metadata": {},
   "outputs": [],
   "source": [
    "# Step 14: Evaluate the model on the testing data\n",
    "y_pred_importance = model_importance.predict(X_test)\n",
    "mse_importance = mean_squared_error(y_test, y_pred_importance)\n",
    "r2_importance = r2_score(y_test, y_pred_importance)"
   ]
  },
  {
   "cell_type": "code",
   "execution_count": 21,
   "id": "2cd837e2",
   "metadata": {},
   "outputs": [
    {
     "name": "stdout",
     "output_type": "stream",
     "text": [
      "Feature Importance:\n",
      "Mean Squared Error: 24775764.083663587\n",
      "R-squared: 0.8443048454098783\n"
     ]
    }
   ],
   "source": [
    "# Print model evaluation metrics for Feature Importance\n",
    "print('Feature Importance:')\n",
    "print('Mean Squared Error:', mse_importance)\n",
    "print('R-squared:', r2_importance)"
   ]
  },
  {
   "cell_type": "code",
   "execution_count": 23,
   "id": "102c5180",
   "metadata": {},
   "outputs": [],
   "source": [
    "# Step 15: Save the trained Feature Importance model using pickle\n",
    "with open('finalized_model.pkl', 'wb') as file:\n",
    "    pickle.dump(model_importance, file)"
   ]
  },
  {
   "cell_type": "code",
   "execution_count": null,
   "id": "07e994d9",
   "metadata": {},
   "outputs": [],
   "source": []
  }
 ],
 "metadata": {
  "kernelspec": {
   "display_name": "Python 3 (ipykernel)",
   "language": "python",
   "name": "python3"
  },
  "language_info": {
   "codemirror_mode": {
    "name": "ipython",
    "version": 3
   },
   "file_extension": ".py",
   "mimetype": "text/x-python",
   "name": "python",
   "nbconvert_exporter": "python",
   "pygments_lexer": "ipython3",
   "version": "3.7.6"
  }
 },
 "nbformat": 4,
 "nbformat_minor": 5
}
